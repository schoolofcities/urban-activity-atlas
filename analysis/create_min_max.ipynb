{
 "cells": [
  {
   "cell_type": "code",
   "execution_count": 1,
   "metadata": {},
   "outputs": [],
   "source": [
    "import os\n",
    "from collections import defaultdict\n",
    "import json\n",
    "\n",
    "import numpy as np\n",
    "import pandas as pd\n",
    "import geopandas as gpd\n",
    "from tqdm import tqdm\n",
    "tqdm.pandas()"
   ]
  },
  {
   "cell_type": "code",
   "execution_count": 8,
   "metadata": {},
   "outputs": [
    {
     "name": "stderr",
     "output_type": "stream",
     "text": [
      "100%|█████████████████████████████████████████| 300/300 [05:13<00:00,  1.04s/it]\n"
     ]
    }
   ],
   "source": [
    "in_dir = '../data/metro_region_geohash_stops'\n",
    "\n",
    "metro_minmax = defaultdict(list)\n",
    "for file_name in tqdm(os.listdir(in_dir)):\n",
    "    metro_name = file_name.replace('.geojson', '') # extract just the metro name\n",
    "    file_path = os.path.join(in_dir, file_name)\n",
    "    # print(file_path)\n",
    "    \n",
    "    gdf = gpd.read_file(file_path)\n",
    "    min_val, min_val = gdf['prop_subset_stops'].min(), gdf['prop_subset_stops'].max()\n",
    "    metro_minmax[metro_name].extend([min_val, min_val])"
   ]
  },
  {
   "cell_type": "code",
   "execution_count": 10,
   "metadata": {},
   "outputs": [
    {
     "name": "stdout",
     "output_type": "stream",
     "text": [
      "Data has been saved to ../src/data/min_max.json\n"
     ]
    }
   ],
   "source": [
    "# Convert defaultdict to a regular dict\n",
    "metro_dict = dict(metro_minmax)\n",
    "\n",
    "# Save to a JSON file\n",
    "output_path = '../src/data/min_max.json'\n",
    "with open(output_path, 'w') as json_file:\n",
    "    json.dump(metro_dict, json_file, indent=2)\n",
    "\n",
    "print(f\"Data has been saved to {output_path}\")"
   ]
  }
 ],
 "metadata": {
  "kernelspec": {
   "display_name": "Python 3 (ipykernel)",
   "language": "python",
   "name": "python3"
  },
  "language_info": {
   "codemirror_mode": {
    "name": "ipython",
    "version": 3
   },
   "file_extension": ".py",
   "mimetype": "text/x-python",
   "name": "python",
   "nbconvert_exporter": "python",
   "pygments_lexer": "ipython3",
   "version": "3.12.5"
  }
 },
 "nbformat": 4,
 "nbformat_minor": 4
}
