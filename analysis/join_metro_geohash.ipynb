{
 "cells": [
  {
   "cell_type": "code",
   "execution_count": 3,
   "id": "beaa81e9-9dc6-48c5-9a05-1ee0e55af9c6",
   "metadata": {},
   "outputs": [],
   "source": [
    "import os\n",
    "\n",
    "import numpy as np\n",
    "import pandas as pd\n",
    "import geopandas as gpd\n",
    "from tqdm import tqdm\n",
    "tqdm.pandas()\n",
    "\n",
    "from shapely import geometry\n",
    "from shapely.ops import unary_union\n",
    "from polygeohasher import polygeohasher\n",
    "import geohash"
   ]
  },
  {
   "cell_type": "code",
   "execution_count": 4,
   "id": "1f2d7afd-ab43-4df1-b2b1-a9d28576e49e",
   "metadata": {},
   "outputs": [
    {
     "data": {
      "text/html": [
       "<div>\n",
       "<style scoped>\n",
       "    .dataframe tbody tr th:only-of-type {\n",
       "        vertical-align: middle;\n",
       "    }\n",
       "\n",
       "    .dataframe tbody tr th {\n",
       "        vertical-align: top;\n",
       "    }\n",
       "\n",
       "    .dataframe thead th {\n",
       "        text-align: right;\n",
       "    }\n",
       "</style>\n",
       "<table border=\"1\" class=\"dataframe\">\n",
       "  <thead>\n",
       "    <tr style=\"text-align: right;\">\n",
       "      <th></th>\n",
       "      <th>name</th>\n",
       "      <th>population</th>\n",
       "      <th>geometry</th>\n",
       "    </tr>\n",
       "  </thead>\n",
       "  <tbody>\n",
       "    <tr>\n",
       "      <th>0</th>\n",
       "      <td>New York-Newark-Jersey City, NY-NJ-PA Metro Area</td>\n",
       "      <td>19908595.0</td>\n",
       "      <td>MULTIPOLYGON (((-72.03683 41.24984, -72.03496 ...</td>\n",
       "    </tr>\n",
       "    <tr>\n",
       "      <th>1</th>\n",
       "      <td>Los Angeles-Long Beach-Anaheim, CA Metro Area</td>\n",
       "      <td>13111917.0</td>\n",
       "      <td>MULTIPOLYGON (((-118.60442 33.47855, -118.5987...</td>\n",
       "    </tr>\n",
       "    <tr>\n",
       "      <th>2</th>\n",
       "      <td>Chicago-Naperville-Elgin, IL-IN-WI Metro Area</td>\n",
       "      <td>9566955.0</td>\n",
       "      <td>MULTIPOLYGON (((-88.94215 42.06505, -88.93894 ...</td>\n",
       "    </tr>\n",
       "    <tr>\n",
       "      <th>3</th>\n",
       "      <td>Dallas-Fort Worth-Arlington, TX Metro Area</td>\n",
       "      <td>7673379.0</td>\n",
       "      <td>MULTIPOLYGON (((-98.06560 32.59502, -98.06486 ...</td>\n",
       "    </tr>\n",
       "    <tr>\n",
       "      <th>4</th>\n",
       "      <td>Houston-The Woodlands-Sugar Land, TX Metro Area</td>\n",
       "      <td>7142603.0</td>\n",
       "      <td>MULTIPOLYGON (((-94.71830 29.72885, -94.71721 ...</td>\n",
       "    </tr>\n",
       "    <tr>\n",
       "      <th>...</th>\n",
       "      <td>...</td>\n",
       "      <td>...</td>\n",
       "      <td>...</td>\n",
       "    </tr>\n",
       "    <tr>\n",
       "      <th>295</th>\n",
       "      <td>Sebastian-Vero Beach, FL Metro Area</td>\n",
       "      <td>160986.0</td>\n",
       "      <td>MULTIPOLYGON (((-80.88157 27.82251, -80.86888 ...</td>\n",
       "    </tr>\n",
       "    <tr>\n",
       "      <th>296</th>\n",
       "      <td>Jackson, MI Metro Area</td>\n",
       "      <td>160637.0</td>\n",
       "      <td>MULTIPOLYGON (((-84.71860 42.33454, -84.71849 ...</td>\n",
       "    </tr>\n",
       "    <tr>\n",
       "      <th>297</th>\n",
       "      <td>State College, PA Metro Area</td>\n",
       "      <td>158665.0</td>\n",
       "      <td>MULTIPOLYGON (((-78.37688 40.75254, -78.37652 ...</td>\n",
       "    </tr>\n",
       "    <tr>\n",
       "      <th>298</th>\n",
       "      <td>Idaho Falls, ID Metro Area</td>\n",
       "      <td>158478.0</td>\n",
       "      <td>MULTIPOLYGON (((-113.79814 43.57197, -113.7958...</td>\n",
       "    </tr>\n",
       "    <tr>\n",
       "      <th>299</th>\n",
       "      <td>Moncton (B)</td>\n",
       "      <td>157717.0</td>\n",
       "      <td>MULTIPOLYGON (((-64.99378 46.42830, -64.99346 ...</td>\n",
       "    </tr>\n",
       "  </tbody>\n",
       "</table>\n",
       "<p>300 rows × 3 columns</p>\n",
       "</div>"
      ],
      "text/plain": [
       "                                                 name  population  \\\n",
       "0    New York-Newark-Jersey City, NY-NJ-PA Metro Area  19908595.0   \n",
       "1       Los Angeles-Long Beach-Anaheim, CA Metro Area  13111917.0   \n",
       "2       Chicago-Naperville-Elgin, IL-IN-WI Metro Area   9566955.0   \n",
       "3          Dallas-Fort Worth-Arlington, TX Metro Area   7673379.0   \n",
       "4     Houston-The Woodlands-Sugar Land, TX Metro Area   7142603.0   \n",
       "..                                                ...         ...   \n",
       "295               Sebastian-Vero Beach, FL Metro Area    160986.0   \n",
       "296                            Jackson, MI Metro Area    160637.0   \n",
       "297                      State College, PA Metro Area    158665.0   \n",
       "298                        Idaho Falls, ID Metro Area    158478.0   \n",
       "299                                       Moncton (B)    157717.0   \n",
       "\n",
       "                                              geometry  \n",
       "0    MULTIPOLYGON (((-72.03683 41.24984, -72.03496 ...  \n",
       "1    MULTIPOLYGON (((-118.60442 33.47855, -118.5987...  \n",
       "2    MULTIPOLYGON (((-88.94215 42.06505, -88.93894 ...  \n",
       "3    MULTIPOLYGON (((-98.06560 32.59502, -98.06486 ...  \n",
       "4    MULTIPOLYGON (((-94.71830 29.72885, -94.71721 ...  \n",
       "..                                                 ...  \n",
       "295  MULTIPOLYGON (((-80.88157 27.82251, -80.86888 ...  \n",
       "296  MULTIPOLYGON (((-84.71860 42.33454, -84.71849 ...  \n",
       "297  MULTIPOLYGON (((-78.37688 40.75254, -78.37652 ...  \n",
       "298  MULTIPOLYGON (((-113.79814 43.57197, -113.7958...  \n",
       "299  MULTIPOLYGON (((-64.99378 46.42830, -64.99346 ...  \n",
       "\n",
       "[300 rows x 3 columns]"
      ]
     },
     "execution_count": 4,
     "metadata": {},
     "output_type": "execute_result"
    }
   ],
   "source": [
    "df_geoh_stops = pd.read_csv('../data/activity_2023-04-01_2024-03-31.csv')\n",
    "gdf_met = gpd.read_file('../data/metro_regions_raw.geojson')\n",
    "\n",
    "MERGE_REGIONS = [\n",
    "    \"Ottawa - Gatineau (Ontario part / partie de l'Ontario) (B)\", \n",
    "    'Ottawa - Gatineau (partie du Québec / Quebec part) (B)',\n",
    "]\n",
    "\n",
    "ottawa_poly = unary_union(gdf_met[gdf_met['name'].isin(MERGE_REGIONS)].geometry.to_list())\n",
    "ottawa_pop = gdf_met[gdf_met['name'].isin(MERGE_REGIONS)]['population'].sum()\n",
    "row = {'name': ['Ottawa - Gatineau (B)'], 'population': [ottawa_pop], 'geometry': [ottawa_poly]}\n",
    "gdf_met = gpd.GeoDataFrame(pd.concat([gdf_met, gpd.GeoDataFrame(row, crs=gdf_met.crs)]))\n",
    "\n",
    "gdf_met = gdf_met.drop(gdf_met[gdf_met.name.isin(MERGE_REGIONS)].index).sort_values(by='population', ascending=False).reset_index(drop=True)\n",
    "gdf_met"
   ]
  },
  {
   "cell_type": "markdown",
   "id": "c1b1d1d7-cc27-406f-8d32-703b385e8044",
   "metadata": {},
   "source": [
    "Fix region namings and compute centroids"
   ]
  },
  {
   "cell_type": "code",
   "execution_count": 8,
   "id": "eaf41876-07aa-484f-9378-d2146cebba84",
   "metadata": {},
   "outputs": [],
   "source": [
    "CITY_TO_PROVINCE = {\n",
    "    'Toronto': 'ON',\n",
    "    'Montreal': 'QC',\n",
    "    'Vancouver': 'BC',\n",
    "    'Ottawa - Gatineau': 'ON-QC',\n",
    "    'Calgary': 'AB',\n",
    "    'Edmonton': 'AB',\n",
    "    'Quebec': 'QC',\n",
    "    'Winnipeg': 'MB',\n",
    "    'Hamilton': 'ON',\n",
    "    'Kitchener - Cambridge - Waterloo': 'ON',\n",
    "    'London': 'ON',\n",
    "    'Halifax': 'NS',\n",
    "    'St. Catharines - Niagara': 'ON',\n",
    "    'Windsor': 'ON',\n",
    "    'Oshawa': 'ON',\n",
    "    'Victoria': 'BC',\n",
    "    'Saskatoon': 'SK',\n",
    "    'Regina': 'SK',\n",
    "    'Sherbrooke': 'QC',\n",
    "    'Kelowna': 'BC',\n",
    "    'Barrie': 'ON',\n",
    "    \"St. John's\": 'NL',\n",
    "    'Abbotsford - Mission': 'BC',\n",
    "    'Kingston': 'ON',\n",
    "    'Greater Sudbury / Grand Sudbury': 'ON',\n",
    "    'Guelph': 'ON',\n",
    "    'Saguenay': 'QC',\n",
    "    'Trois-Rivieres': 'QC',\n",
    "    'Moncton': 'NB',\n",
    "}"
   ]
  },
  {
   "cell_type": "code",
   "execution_count": 6,
   "id": "1076eec8-b827-4432-af1c-113d4ef79c75",
   "metadata": {},
   "outputs": [],
   "source": [
    "def clean_region_name(region):\n",
    "    region = region.replace(\" Metro Area\", \"\")\n",
    "    region = region.replace(\" (B)\", \"\")\n",
    "\n",
    "    # Accented normalization\n",
    "    if 'è' in region:\n",
    "        region = region.replace('è', 'e')\n",
    "    if 'é' in region:\n",
    "        region = region.replace('é', 'e')\n",
    "    \n",
    "    # Canadian province codes\n",
    "    if \",\" not in region:  \n",
    "        region = f\"{region}, {CITY_TO_PROVINCE[region]}\"\n",
    "\n",
    "    # Louisville and Greater Sudbury\n",
    "    if '/' in region:\n",
    "        s = region.split(',')\n",
    "        s[0] = s[0].split('/')[0].strip()\n",
    "        region = \",\".join(s)\n",
    "    \n",
    "    return region"
   ]
  },
  {
   "cell_type": "code",
   "execution_count": 11,
   "id": "9f27f84a-a05e-4d12-8bb2-237fb5f17848",
   "metadata": {},
   "outputs": [],
   "source": [
    "gdf_met['name'] = gdf_met.apply(lambda row: clean_region_name(row['name']), axis=1)\n",
    "gdf_met.to_file('../data/metro_regions_full.geojson', driver='GeoJSON')\n",
    "gdf_met.to_file('../src/data/metro_regions_full.geo.json', driver='GeoJSON')"
   ]
  },
  {
   "cell_type": "code",
   "execution_count": 13,
   "id": "53989ca1-fb56-4a67-a5cc-078d7c65ca95",
   "metadata": {},
   "outputs": [
    {
     "name": "stderr",
     "output_type": "stream",
     "text": [
      "/tmp/ipykernel_217884/3717172684.py:1: UserWarning: Geometry is in a geographic CRS. Results from 'centroid' are likely incorrect. Use 'GeoSeries.to_crs()' to re-project geometries to a projected CRS before this operation.\n",
      "\n",
      "  gdf_cent = gdf_met.set_geometry(gdf_met.centroid)\n"
     ]
    }
   ],
   "source": [
    "gdf_cent = gdf_met.set_geometry(gdf_met.centroid)\n",
    "gdf_cent.to_file('../src/data/metro_regions_centroids.geo.json', driver='GeoJSON')  # Fix these manually"
   ]
  },
  {
   "cell_type": "markdown",
   "id": "ac50aad9-f086-45ab-abd8-921ae5987b69",
   "metadata": {},
   "source": [
    "Generate geohashes for each metro region"
   ]
  },
  {
   "cell_type": "code",
   "execution_count": 3,
   "id": "50c89861-d709-4da4-b301-0b7411bd2f3d",
   "metadata": {},
   "outputs": [],
   "source": [
    "pgh = polygeohasher.Polygeohasher(gdf_met)"
   ]
  },
  {
   "cell_type": "code",
   "execution_count": 4,
   "id": "963989cd-0cbf-40e6-874a-c3207a17f7dc",
   "metadata": {},
   "outputs": [],
   "source": [
    "INPUT_GEOHASH_LEVEL = 6\n",
    "df_init = pgh.create_geohash_list(INPUT_GEOHASH_LEVEL, inner=False)  # 10 mins"
   ]
  },
  {
   "cell_type": "code",
   "execution_count": 5,
   "id": "b117985b-d74f-4999-8464-65f1dfc7813f",
   "metadata": {},
   "outputs": [],
   "source": [
    "gdf_geo = pgh.geohashes_to_geometry(df_init, \"geohash_list\")  # 2-3 mins"
   ]
  },
  {
   "cell_type": "code",
   "execution_count": 6,
   "id": "53108402-ea38-4ea5-8c57-a465766964ec",
   "metadata": {},
   "outputs": [],
   "source": [
    "def compute_intersect_area(gdf, row):\n",
    "    \"\"\" Given the region polygons (gdf) and the geohash row (row), return the\n",
    "    area of the intersection. \n",
    "    \"\"\"\n",
    "    region_name = row['name']\n",
    "    region_poly = gdf.loc[gdf['name'] == region_name]['geometry'].values[0]\n",
    "    return row['geometry'].intersection(region_poly).area"
   ]
  },
  {
   "cell_type": "code",
   "execution_count": 7,
   "id": "a026a475-b861-4701-bc30-9bf495080d86",
   "metadata": {},
   "outputs": [
    {
     "name": "stderr",
     "output_type": "stream",
     "text": [
      "100%|███████████████████████████████| 4017916/4017916 [29:15<00:00, 2288.39it/s]\n"
     ]
    }
   ],
   "source": [
    "gdf_geo['intersect_area'] = gdf_geo.progress_apply(lambda x: compute_intersect_area(gdf_met, x), axis=1)  # 30 mins"
   ]
  },
  {
   "cell_type": "code",
   "execution_count": 8,
   "id": "e5c89d67-bdc5-432a-bac8-6d9f65948142",
   "metadata": {},
   "outputs": [],
   "source": [
    "gdf_geo = gdf_geo.sort_values(by=['intersect_area'], ascending=False).drop_duplicates(subset=['geohash_list'])\n",
    "gdf_geo = gdf_geo.sort_values(by=['name', 'geohash_list'])\n",
    "gdf_geo = gdf_geo.drop(['intersect_area', 'population'], axis=1)\n",
    "gdf_geo = gdf_geo.rename(columns={\"geohash_list\": \"geohash\"})\n",
    "df_geo = pd.DataFrame(gdf_geo.drop(columns='geometry'))"
   ]
  },
  {
   "cell_type": "code",
   "execution_count": 9,
   "id": "24f33580-cb95-4854-9312-39ac3bc3f8ef",
   "metadata": {},
   "outputs": [],
   "source": [
    "df_geo.to_csv('../data/metro_region_geohashes.csv', index=False)"
   ]
  },
  {
   "cell_type": "markdown",
   "id": "54caf4bf-e72d-463c-8f9a-e0185ee647ca",
   "metadata": {},
   "source": [
    "Link the activity data to the metro regions by geohash"
   ]
  },
  {
   "cell_type": "code",
   "execution_count": 4,
   "id": "2dd93171-3144-47f9-ad4e-6d22ed5888ba",
   "metadata": {},
   "outputs": [],
   "source": [
    "def geohash_to_polygon(geo):\n",
    "    \"\"\"\n",
    "    https://github.com/rohitsinghsalyan/polygeohasher/blob/master/polygeohasher/polygon_geohash_convertor.py\n",
    "    :param geo: String that represents the geohash.\n",
    "    :return: Returns a Shapely's Polygon instance that represents the geohash.\n",
    "    \"\"\"\n",
    "    lat_centroid, lng_centroid, lat_offset, lng_offset = geohash.decode_exactly(geo)\n",
    "\n",
    "    corner_1 = (lat_centroid - lat_offset, lng_centroid - lng_offset)[::-1]\n",
    "    corner_2 = (lat_centroid - lat_offset, lng_centroid + lng_offset)[::-1]\n",
    "    corner_3 = (lat_centroid + lat_offset, lng_centroid + lng_offset)[::-1]\n",
    "    corner_4 = (lat_centroid + lat_offset, lng_centroid - lng_offset)[::-1]\n",
    "\n",
    "    return geometry.Polygon([corner_1, corner_2, corner_3, corner_4, corner_1])"
   ]
  },
  {
   "cell_type": "code",
   "execution_count": 5,
   "id": "5a8288d4-84e6-4b12-b1d1-24c8bc78c7a5",
   "metadata": {},
   "outputs": [],
   "source": [
    "df_geo = pd.read_csv('../data/metro_region_geohashes.csv')"
   ]
  },
  {
   "cell_type": "code",
   "execution_count": 7,
   "id": "4d5a8642-e50d-4f73-a2dd-e108322d1554",
   "metadata": {},
   "outputs": [],
   "source": [
    "df_geoh_stops = df_geoh_stops.rename(columns={\"geohash6\": \"geohash\"})\n",
    "df_region_geo_stops = pd.merge(df_geo, df_geoh_stops, on=\"geohash\")"
   ]
  },
  {
   "cell_type": "code",
   "execution_count": 10,
   "id": "1c57f173-0e4b-44ee-9be7-60064c9d0ea6",
   "metadata": {},
   "outputs": [],
   "source": [
    "total_stops = df_region_geo_stops['total_stops'].sum()"
   ]
  },
  {
   "cell_type": "code",
   "execution_count": null,
   "id": "47f595e6-7d09-4329-a338-8cee56553ee6",
   "metadata": {},
   "outputs": [
    {
     "name": "stderr",
     "output_type": "stream",
     "text": [
      " 92%|█████████████████████████████████████▊   | 271/294 [08:39<00:26,  1.15s/it]"
     ]
    }
   ],
   "source": [
    "metro_regions = gdf_met['name'].unique()\n",
    "for region in tqdm(metro_regions):\n",
    "    df_subset = df_region_geo_stops[df_region_geo_stops['name'] == region]\n",
    "    df_subset = df_subset.drop(columns=['name'])\n",
    "\n",
    "    subset_stops = df_subset['total_stops'].sum()\n",
    "    df_subset['prop_total_stops'] = df_subset['total_stops'] / total_stops\n",
    "    df_subset['prop_subset_stops'] = df_subset['total_stops'] / subset_stops\n",
    "    df_subset = df_subset.drop(columns=['total_stops'])\n",
    "    \n",
    "    # # Unified Ottawa region only\n",
    "    # if region in EXCLUDE_REGIONS:\n",
    "    #     continue\n",
    "\n",
    "    # cur_region = clean_region_name(region)\n",
    "\n",
    "    df_subset['geometry'] = df_subset.apply(lambda x: geohash_to_polygon(x['geohash']), axis=1)\n",
    "    gdf_subset = gpd.GeoDataFrame(df_subset)\n",
    "\n",
    "    gdf_subset.to_file(f'../data/metro_region_geohash_stops/{cur_region}.geojson', driver='GeoJSON')"
   ]
  }
 ],
 "metadata": {
  "kernelspec": {
   "display_name": "py312",
   "language": "python",
   "name": "python3"
  },
  "language_info": {
   "codemirror_mode": {
    "name": "ipython",
    "version": 3
   },
   "file_extension": ".py",
   "mimetype": "text/x-python",
   "name": "python",
   "nbconvert_exporter": "python",
   "pygments_lexer": "ipython3",
   "version": "3.12.5"
  }
 },
 "nbformat": 4,
 "nbformat_minor": 5
}
